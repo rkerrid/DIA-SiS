{
 "cells": [
  {
   "cell_type": "markdown",
   "id": "dd826bb0-b77c-4701-82e2-e9c8825ede58",
   "metadata": {},
   "source": [
    "# Example Pipeline For Processing Spike-in SILAC-DIA Experiments"
   ]
  },
  {
   "cell_type": "code",
   "execution_count": 1,
   "id": "16730496-1796-4198-b8ed-606d72c997f3",
   "metadata": {},
   "outputs": [],
   "source": [
    "# Import pipeline from workflow module\n",
    "from dia_sis.workflow.pipeline import Pipeline as pileline"
   ]
  },
  {
   "cell_type": "code",
   "execution_count": 2,
   "id": "78007b07-e7dc-4c8a-b710-3de5f9b5b949",
   "metadata": {},
   "outputs": [],
   "source": [
    "# Set path to directory containing the report.tsv and optionally any metadata\n",
    "path = 'G:/My Drive/Data/main experiments/20240219 baby benchmark for pydia_sis/'"
   ]
  },
  {
   "cell_type": "code",
   "execution_count": 3,
   "id": "7042cc50-b201-4bae-9903-98f0582ada59",
   "metadata": {},
   "outputs": [
    {
     "name": "stdout",
     "output_type": "stream",
     "text": [
      "Metadata added, looking for the following file: meta.csv\n",
      "CSV file 'meta.csv' found in G:/My Drive/Data/main experiments/20240219 baby benchmark for pydia_sis/\n"
     ]
    }
   ],
   "source": [
    "# Initialize pipeline object\n",
    "pipeline = pileline( f'{path}', 'params.json', meta='meta.csv')"
   ]
  },
  {
   "cell_type": "code",
   "execution_count": 4,
   "id": "15d7a722-7e58-4fb8-810d-d7e3168dc1ad",
   "metadata": {},
   "outputs": [],
   "source": [
    "# Optionally you can add a metadata.csv file to your directory using the command below. Data has to be entered manually in the popup \n",
    "# pipeline.make_metadata()"
   ]
  },
  {
   "cell_type": "code",
   "execution_count": 5,
   "id": "f928be47-99b4-42dd-9bce-f9ba09ee9f9c",
   "metadata": {},
   "outputs": [
    {
     "name": "stdout",
     "output_type": "stream",
     "text": [
      "Beginning import report.tsv\n"
     ]
    },
    {
     "name": "stderr",
     "output_type": "stream",
     "text": [
      "Estimated loading of report.tsv based on file size:  72%|████████████████▌      | 10/13.890103 [00:38<00:14,  3.83s/it]\n"
     ]
    },
    {
     "name": "stdout",
     "output_type": "stream",
     "text": [
      "Finished import\n",
      "Time taken for import: 38.3315212726593 seconds\n",
      "Formatting SILAC channels\n",
      "Calculating SILAC ratios based on Ms1.Translated and Precursor.Translated\n",
      "Calculate href df\n"
     ]
    },
    {
     "name": "stderr",
     "output_type": "stream",
     "text": [
      "Computing heavy intensities for each run: 100%|████████████████████████████████████████| 12/12 [00:37<00:00,  3.12s/it]\n"
     ]
    },
    {
     "name": "stdout",
     "output_type": "stream",
     "text": [
      "Rolling up to protein level\n"
     ]
    },
    {
     "name": "stderr",
     "output_type": "stream",
     "text": [
      "Computing protein level ratios for each run: 100%|█████████████████████████████████████| 12/12 [00:29<00:00,  2.45s/it]\n"
     ]
    },
    {
     "name": "stdout",
     "output_type": "stream",
     "text": [
      "Calculating adjusted intensities using reference\n",
      "Folder already exists at G:/My Drive/Data/main experiments/20240219 baby benchmark for pydia_sis/protein_groups\n",
      "Outputing normalized protein intensities to G:/My Drive/Data/main experiments/20240219 baby benchmark for pydia_sis//protein_groups\n",
      "Time taken to generate protein groups: 69.85586810112 seconds\n",
      "Folder already exists at G:/My Drive/Data/main experiments/20240219 baby benchmark for pydia_sis/preprocessing\n",
      "Folder already exists at G:/My Drive/Data/main experiments/20240219 baby benchmark for pydia_sis/reports\n",
      "Folder already exists at G:/My Drive/Data/main experiments/20240219 baby benchmark for pydia_sis/reports\n",
      "Folder already exists at G:/My Drive/Data/main experiments/20240219 baby benchmark for pydia_sis/reports\n"
     ]
    }
   ],
   "source": [
    "# Execute pipeline\n",
    "pipeline.execute_pipeline()"
   ]
  },
  {
   "cell_type": "code",
   "execution_count": null,
   "id": "27b174cc-3d04-4d6f-a781-52f711ddece0",
   "metadata": {},
   "outputs": [],
   "source": []
  }
 ],
 "metadata": {
  "kernelspec": {
   "display_name": "Python 3 (ipykernel)",
   "language": "python",
   "name": "python3"
  },
  "language_info": {
   "codemirror_mode": {
    "name": "ipython",
    "version": 3
   },
   "file_extension": ".py",
   "mimetype": "text/x-python",
   "name": "python",
   "nbconvert_exporter": "python",
   "pygments_lexer": "ipython3",
   "version": "3.8.18"
  }
 },
 "nbformat": 4,
 "nbformat_minor": 5
}
