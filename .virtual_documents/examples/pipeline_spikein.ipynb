


# Import pipeline from workflow module
from dia_sis.workflow.pipeline import Pipeline as pileline


# Set path to directory containing the report.tsv and optionally any metadata
path = 'G:/My Drive/Data/main experiments/20240219 baby benchmark for pydia_sis/'


# Initialize pipeline object
pipeline = pileline( f'{path}', 'params.json', meta='meta.csv')


# Optionally you can add a metadata.csv file to your directory using the command below. Data has to be entered manually in the popup 
# pipeline.make_metadata()


# Execute pipeline
pipeline.execute_pipeline()



